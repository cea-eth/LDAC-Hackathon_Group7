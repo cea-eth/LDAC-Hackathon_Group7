{
 "cells": [
  {
   "cell_type": "code",
   "execution_count": 67,
   "metadata": {},
   "outputs": [],
   "source": [
    "from rdflib import Graph, Namespace, URIRef, Literal\n",
    "from rdflib.tools.rdf2dot import rdf2dot\n",
    "from graphviz import Source"
   ]
  },
  {
   "cell_type": "code",
   "execution_count": 68,
   "metadata": {},
   "outputs": [],
   "source": [
    "rdf = Graph()\n",
    "\n",
    "ct = Namespace(\"https://standards.iso.org/21597/-1/ed-1/en/Container#\")\n",
    "ls = Namespace(\"https://standards.iso.org/21597/-1/ed-1/en/Linkset#\")\n",
    "rdfs = Namespace('http://www.w3.org/1999/02/22-rdf-syntax-ns#')\n",
    "base = Namespace(\"https://example.org/\")\n",
    "\n",
    "rdf.bind(\"ex\",base)\n",
    "rdf.bind(\"ct\",ct)\n",
    "rdf.bind(\"ls\",ls)\n",
    "namespaces = dict(rdf.namespaces())\n",
    "\n"
   ]
  },
  {
   "cell_type": "code",
   "execution_count": 69,
   "metadata": {},
   "outputs": [],
   "source": [
    "uuids = {\n",
    "    \"doc1\" : \"document1.csv\" ,\n",
    "    \"doc2\" : \"document2.csv\"\n",
    "}\n",
    "\n",
    " "
   ]
  },
  {
   "cell_type": "code",
   "execution_count": 70,
   "metadata": {},
   "outputs": [],
   "source": [
    "from hashlib import md5\n",
    "import glob\n",
    "import hashlib\n"
   ]
  },
  {
   "cell_type": "code",
   "execution_count": 71,
   "metadata": {},
   "outputs": [],
   "source": [
    "hash_dict = {}\n",
    "for fpath in glob.glob(\"Dataset/*.xlsx\"):\n",
    "    fname = fpath.split(\"\\\\\")[-1]\n",
    "    with open(fpath, \"rb\") as f:\n",
    "        hash_dict[fname] = md5(f.read()).hexdigest()"
   ]
  },
  {
   "cell_type": "code",
   "execution_count": 72,
   "metadata": {},
   "outputs": [
    {
     "data": {
      "text/plain": [
       "{'Asset_Register_LDAC.xlsx': '5365777ade2462d1a302bde9d628bc42',\n",
       " 'Document_Register_LDAC.xlsx': 'c748d6cb5d8f4b8bbfa285d98e7e6bf8'}"
      ]
     },
     "execution_count": 72,
     "metadata": {},
     "output_type": "execute_result"
    }
   ],
   "source": [
    "hash_dict"
   ]
  },
  {
   "cell_type": "code",
   "execution_count": 73,
   "metadata": {},
   "outputs": [
    {
     "name": "stdout",
     "output_type": "stream",
     "text": [
      "66c8a7fc7508e5d8c4ff7f6bef47a4d6 863db35a61e3ca7465475aa6975b1574 fafe1b60c24107ccd8f4562213e44849\n",
      "a63358c986e94ea0fba6928e3c598124 76872e1422756dbc2344145c8d604364 85ac0bad0478698a2a2da24486fb2dcb d1ec3fe3aa3b0ebdb37f2bf7cddf27dc\n",
      "47ad7ea45647f04568c726cbef9b81ae ced414307fce70efda0baa8adfc049c1 546c8df7af8b8c9bb5cfbef945ef7d8e 9632572420f9d25191cc848d67ddbc79\n"
     ]
    }
   ],
   "source": [
    "text = \"linkelement1\"\n",
    "x1 = hashlib.md5(text.encode()).hexdigest()\n",
    "text1 = \"link1\"\n",
    "x2 = hashlib.md5(text1.encode()).hexdigest()\n",
    "text2 = \"id1\"\n",
    "x3 = hashlib.md5(text2.encode()).hexdigest()\n",
    "\n",
    "print(x1,x2,x3)\n",
    "\n",
    "\n",
    "texty0 = \"Document_Register_LDAC.xlsx\"\n",
    "y0 = hashlib.md5(texty0.encode()).hexdigest()\n",
    "texty = \"linkelement2\"\n",
    "y1 = hashlib.md5(texty.encode()).hexdigest()\n",
    "texty1 = \"link2\"\n",
    "y2 = hashlib.md5(texty1.encode()).hexdigest()\n",
    "texty2 = \"id2\"\n",
    "y3 = hashlib.md5(texty2.encode()).hexdigest()\n",
    "\n",
    "print(y0,y1,y2,y3)\n",
    "\n",
    "\n",
    "textz0 = \"TenneTmodelLDAC.ifc\"\n",
    "z0 = hashlib.md5(textz0.encode()).hexdigest()\n",
    "textz1 = \"linkelement3\"\n",
    "z1 = hashlib.md5(textz1.encode()).hexdigest()\n",
    "textz2 = \"link3\"\n",
    "z2 = hashlib.md5(textz2.encode()).hexdigest()\n",
    "textz3 = \"id3\"\n",
    "z3 = hashlib.md5(textz3.encode()).hexdigest()\n",
    "\n",
    "print(z0,z1,z2,z3)\n"
   ]
  },
  {
   "cell_type": "code",
   "execution_count": 74,
   "metadata": {},
   "outputs": [
    {
     "data": {
      "text/plain": [
       "<Graph identifier=N2ed5bedbb7824d76bdb124c021a07873 (<class 'rdflib.graph.Graph'>)>"
      ]
     },
     "execution_count": 74,
     "metadata": {},
     "output_type": "execute_result"
    }
   ],
   "source": [
    "##change uris \n",
    "\n",
    "rdf.add((  URIRef(\"5365777ade2462d1a302bde9d628bc42\",base), rdfs[\"type\"], ct[\"Document\"]  ))\n",
    "rdf.add((  URIRef(\"5365777ade2462d1a302bde9d628bc42\",base), ct[\"filetype\"] , Literal(\"CSV\")  ))\n",
    "rdf.add((  URIRef(\"5365777ade2462d1a302bde9d628bc42\",base), ct[\"filename\"], Literal(\"Asset_Register_LDAC.xlsx\") ))\n",
    "\n",
    "rdf.add(( URIRef(\"66c8a7fc7508e5d8c4ff7f6bef47a4d6\",base) ,rdfs[\"type\"] , ls[\"LinkElement\"]  ))\n",
    "rdf.add(( URIRef(\"66c8a7fc7508e5d8c4ff7f6bef47a4d6\",base) ,ls[\"hasDocument\"] , URIRef(\"5365777ade2462d1a302bde9d628bc42\",base)  ))\n",
    "\n",
    "rdf.add(( URIRef(\"863db35a61e3ca7465475aa6975b1574\",base) ,rdfs[\"type\"] , ls[\"Link\"]  ))\n",
    "rdf.add(( URIRef(\"863db35a61e3ca7465475aa6975b1574\",base) ,ls[\"hasLinkElement\"] , URIRef(\"66c8a7fc7508e5d8c4ff7f6bef47a4d6\",base)  ))\n",
    "\n",
    "rdf.add(( URIRef(\"66c8a7fc7508e5d8c4ff7f6bef47a4d6\",base), ls[\"hasIdentifier\"], URIRef(\"fafe1b60c24107ccd8f4562213e44849\",base) ))\n",
    "\n",
    "rdf.add(( URIRef(\"fafe1b60c24107ccd8f4562213e44849\",base) ,rdfs[\"type\"] , ls[\"Identifier\"]  ))\n",
    "rdf.add(( URIRef(\"fafe1b60c24107ccd8f4562213e44849\",base) ,ls[\"identifier\"] , Literal(\"C:04\")  ))\n",
    "\n",
    "######\n",
    "\n",
    "rdf.add((  URIRef(\"a63358c986e94ea0fba6928e3c598124\",base), rdfs[\"type\"], ct[\"Document\"]  ))\n",
    "rdf.add((  URIRef(\"a63358c986e94ea0fba6928e3c598124\",base), ct[\"filetype\"] , Literal(\"CSV\")  ))\n",
    "rdf.add((  URIRef(\"a63358c986e94ea0fba6928e3c598124\",base), ct[\"filename\"], Literal(\"Document_Register_LDAC.xlsx\") ))\n",
    "\n",
    "rdf.add(( URIRef(\"76872e1422756dbc2344145c8d604364\",base) ,rdfs[\"type\"] , ls[\"LinkElement\"]  ))\n",
    "rdf.add(( URIRef(\"76872e1422756dbc2344145c8d604364\",base) ,ls[\"hasDocument\"] , URIRef(\"a63358c986e94ea0fba6928e3c598124\",base)  ))\n",
    "\n",
    "rdf.add(( URIRef(\"85ac0bad0478698a2a2da24486fb2dcb\",base) ,rdfs[\"type\"] , ls[\"Link\"]  ))\n",
    "rdf.add(( URIRef(\"85ac0bad0478698a2a2da24486fb2dcb\",base) ,ls[\"hasLinkElement\"] , URIRef(\"76872e1422756dbc2344145c8d604364\",base)  ))\n",
    "\n",
    "rdf.add(( URIRef(\"76872e1422756dbc2344145c8d604364\",base), ls[\"hasIdentifier\"], URIRef(\"d1ec3fe3aa3b0ebdb37f2bf7cddf27dc\",base) ))\n",
    "\n",
    "rdf.add(( URIRef(\"d1ec3fe3aa3b0ebdb37f2bf7cddf27dc\",base) ,rdfs[\"type\"] , ls[\"Identifier\"]  ))\n",
    "rdf.add(( URIRef(\"d1ec3fe3aa3b0ebdb37f2bf7cddf27dc\",base) ,ls[\"identifier\"] , Literal(\"D:01\")  ))\n",
    "\n",
    "######\n",
    "\n",
    "rdf.add((  URIRef(\"47ad7ea45647f04568c726cbef9b81ae\",base), rdfs[\"type\"], ct[\"Document\"]  ))\n",
    "rdf.add((  URIRef(\"47ad7ea45647f04568c726cbef9b81ae\",base), ct[\"filetype\"] , Literal(\"IFC\")  ))\n",
    "rdf.add((  URIRef(\"47ad7ea45647f04568c726cbef9b81ae\",base), ct[\"filename\"], Literal(\"TenneTmodelLDAC.ifc\") ))\n",
    "\n",
    "rdf.add(( URIRef(\"ced414307fce70efda0baa8adfc049c1\",base) ,rdfs[\"type\"] , ls[\"LinkElement\"]  ))\n",
    "rdf.add(( URIRef(\"ced414307fce70efda0baa8adfc049c1\",base) ,ls[\"hasDocument\"] , URIRef(\"47ad7ea45647f04568c726cbef9b81ae\",base)  ))\n",
    "\n",
    "rdf.add(( URIRef(\"546c8df7af8b8c9bb5cfbef945ef7d8e\",base) ,rdfs[\"type\"] , ls[\"Link\"]  ))\n",
    "rdf.add(( URIRef(\"546c8df7af8b8c9bb5cfbef945ef7d8e\",base) ,ls[\"hasLinkElement\"] , URIRef(\"ced414307fce70efda0baa8adfc049c1\",base)  ))\n",
    "\n",
    "rdf.add(( URIRef(\"ced414307fce70efda0baa8adfc049c1\",base), ls[\"hasIdentifier\"], URIRef(\"9632572420f9d25191cc848d67ddbc79\",base) ))\n",
    "\n",
    "rdf.add(( URIRef(\"9632572420f9d25191cc848d67ddbc79\",base) ,rdfs[\"type\"] , ls[\"Identifier\"]  ))\n",
    "rdf.add(( URIRef(\"9632572420f9d25191cc848d67ddbc79\",base) ,ls[\"identifier\"] , Literal(\"EB001\")  ))\n"
   ]
  },
  {
   "cell_type": "code",
   "execution_count": 75,
   "metadata": {},
   "outputs": [
    {
     "name": "stdout",
     "output_type": "stream",
     "text": [
      "@prefix ct: <https://standards.iso.org/21597/-1/ed-1/en/Container#> .\n",
      "@prefix ex: <https://example.org/> .\n",
      "@prefix ls: <https://standards.iso.org/21597/-1/ed-1/en/Linkset#> .\n",
      "\n",
      "ex:546c8df7af8b8c9bb5cfbef945ef7d8e a ls:Link ;\n",
      "    ls:hasLinkElement ex:ced414307fce70efda0baa8adfc049c1 .\n",
      "\n",
      "ex:85ac0bad0478698a2a2da24486fb2dcb a ls:Link ;\n",
      "    ls:hasLinkElement ex:76872e1422756dbc2344145c8d604364 .\n",
      "\n",
      "ex:863db35a61e3ca7465475aa6975b1574 a ls:Link ;\n",
      "    ls:hasLinkElement ex:66c8a7fc7508e5d8c4ff7f6bef47a4d6 .\n",
      "\n",
      "ex:47ad7ea45647f04568c726cbef9b81ae a ct:Document ;\n",
      "    ct:filename \"TenneTmodelLDAC.ifc\" ;\n",
      "    ct:filetype \"IFC\" .\n",
      "\n",
      "ex:5365777ade2462d1a302bde9d628bc42 a ct:Document ;\n",
      "    ct:filename \"Asset_Register_LDAC.xlsx\" ;\n",
      "    ct:filetype \"CSV\" .\n",
      "\n",
      "ex:66c8a7fc7508e5d8c4ff7f6bef47a4d6 a ls:LinkElement ;\n",
      "    ls:hasDocument ex:5365777ade2462d1a302bde9d628bc42 ;\n",
      "    ls:hasIdentifier ex:fafe1b60c24107ccd8f4562213e44849 .\n",
      "\n",
      "ex:76872e1422756dbc2344145c8d604364 a ls:LinkElement ;\n",
      "    ls:hasDocument ex:a63358c986e94ea0fba6928e3c598124 ;\n",
      "    ls:hasIdentifier ex:d1ec3fe3aa3b0ebdb37f2bf7cddf27dc .\n",
      "\n",
      "ex:9632572420f9d25191cc848d67ddbc79 a ls:Identifier ;\n",
      "    ls:identifier \"EB001\" .\n",
      "\n",
      "ex:a63358c986e94ea0fba6928e3c598124 a ct:Document ;\n",
      "    ct:filename \"Document_Register_LDAC.xlsx\" ;\n",
      "    ct:filetype \"CSV\" .\n",
      "\n",
      "ex:ced414307fce70efda0baa8adfc049c1 a ls:LinkElement ;\n",
      "    ls:hasDocument ex:47ad7ea45647f04568c726cbef9b81ae ;\n",
      "    ls:hasIdentifier ex:9632572420f9d25191cc848d67ddbc79 .\n",
      "\n",
      "ex:d1ec3fe3aa3b0ebdb37f2bf7cddf27dc a ls:Identifier ;\n",
      "    ls:identifier \"D:01\" .\n",
      "\n",
      "ex:fafe1b60c24107ccd8f4562213e44849 a ls:Identifier ;\n",
      "    ls:identifier \"C:04\" .\n",
      "\n",
      "\n"
     ]
    }
   ],
   "source": [
    "print(rdf.serialize())"
   ]
  },
  {
   "cell_type": "code",
   "execution_count": 76,
   "metadata": {},
   "outputs": [
    {
     "data": {
      "text/plain": [
       "<Graph identifier=N2ed5bedbb7824d76bdb124c021a07873 (<class 'rdflib.graph.Graph'>)>"
      ]
     },
     "execution_count": 76,
     "metadata": {},
     "output_type": "execute_result"
    }
   ],
   "source": [
    "rdf.serialize(\"test.ttl\")"
   ]
  },
  {
   "cell_type": "code",
   "execution_count": null,
   "metadata": {},
   "outputs": [],
   "source": []
  }
 ],
 "metadata": {
  "kernelspec": {
   "display_name": "Python 3",
   "language": "python",
   "name": "python3"
  },
  "language_info": {
   "codemirror_mode": {
    "name": "ipython",
    "version": 3
   },
   "file_extension": ".py",
   "mimetype": "text/x-python",
   "name": "python",
   "nbconvert_exporter": "python",
   "pygments_lexer": "ipython3",
   "version": "3.9.13"
  },
  "orig_nbformat": 4
 },
 "nbformat": 4,
 "nbformat_minor": 2
}
